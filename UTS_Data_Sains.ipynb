{
  "nbformat": 4,
  "nbformat_minor": 0,
  "metadata": {
    "colab": {
      "name": "UTS Data Sains.ipynb",
      "provenance": [],
      "collapsed_sections": [
        "mP8LpCSSOxkG",
        "mduZmxegPO9n"
      ],
      "toc_visible": true,
      "authorship_tag": "ABX9TyPwJegcU7Qo4fZknzZ/4hM7",
      "include_colab_link": true
    },
    "kernelspec": {
      "name": "python3",
      "display_name": "Python 3"
    },
    "language_info": {
      "name": "python"
    }
  },
  "cells": [
    {
      "cell_type": "markdown",
      "metadata": {
        "id": "view-in-github",
        "colab_type": "text"
      },
      "source": [
        "<a href=\"https://colab.research.google.com/github/akbarhlubis/machine_learning_reading_habit/blob/main/UTS_Data_Sains.ipynb\" target=\"_parent\"><img src=\"https://colab.research.google.com/assets/colab-badge.svg\" alt=\"Open In Colab\"/></a>"
      ]
    },
    {
      "cell_type": "markdown",
      "metadata": {
        "id": "Kwp8a1_0_aeN"
      },
      "source": [
        "#Data Diri Mahasiswa\n",
        "\n",
        "\n",
        "---\n",
        "\n",
        "\n",
        "####Nama  : Akbar Hamonangan Lubis\n",
        "####Kelas : IF19E\n",
        "####NPM   : 19312116"
      ]
    },
    {
      "cell_type": "markdown",
      "metadata": {
        "id": "UH31fq5L9b8G"
      },
      "source": [
        "#Soal UTS Pengantar Data Sains\n",
        "\n",
        "\n",
        "1. Tuliskan metode preprocessing apa yang telah Anda lakukan pada data yang telah Anda kumpulkan saat kuis.\n",
        "2. Tuliskan langkah-langkah preprocessing yang telah Anda lakukan. \n",
        "3. Cantumkan data sebelum dipreprocessing dan data setelah dipreprocessing.\n",
        "4. Tuliskan metode Machine Learning yang Anda gunakan untuk memproses data, sertakan rumus dan penjelasannya.\n",
        "\n",
        "#Referensi Belajar\n",
        "1. [Datacamp](https://www.datacamp.com/community/blog/python-pandas-cheat-sheet?utm_source=adwords_ppc&utm_campaignid=12492439802&utm_adgroupid=122563403481&utm_device=c&utm_keyword=pandas%20cheat%20sheet&utm_matchtype=b&utm_network=g&utm_adpostion=&utm_creative=504158804608&utm_targetid=aud-392016246653:kwd-385658525885&utm_loc_interest_ms=&utm_loc_physical_ms=9056683&gclid=Cj0KCQjwvYSEBhDjARIsAJMn0lhxMkIF8jDA0gFoqxrXR6sA8dpEBdhNBQdHFR2RPrY4dcbbptbEh8gaArjLEALw_wcB)\n",
        "2. [Data.Flair](https://data-flair.training/blogs/python-data-cleansing/)\n",
        "3. [Medium.TheInnovation](https://medium.com/the-innovation/how-to-scrape-the-most-popular-songs-on-spotify-using-python-8a8979fa6b06)\n",
        "4. [Data.EnthusiatsID](https://youtu.be/MB58kLDkdZA)\n"
      ]
    },
    {
      "cell_type": "markdown",
      "metadata": {
        "id": "mP8LpCSSOxkG"
      },
      "source": [
        "## Mempersiapkan Bahan-Bahan\n",
        "Pertama-tama mengimport package-package penting seperti pandas, numpy dsb. ke Googgle Collab"
      ]
    },
    {
      "cell_type": "code",
      "metadata": {
        "id": "XL2mKkQ09ahP"
      },
      "source": [
        "import csv\n",
        "import pandas as pd\n",
        "import numpy as np\n",
        "import scipy as sp\n",
        "import seaborn as sns\n",
        "import matplotlib.pyplot as plt"
      ],
      "execution_count": null,
      "outputs": []
    },
    {
      "cell_type": "code",
      "metadata": {
        "id": "8_L3q8Vb8p3V"
      },
      "source": [
        "from google.colab import drive\n",
        "drive.mount('/content/gdrive')"
      ],
      "execution_count": null,
      "outputs": []
    },
    {
      "cell_type": "markdown",
      "metadata": {
        "id": "gbAMPYe0OuQI"
      },
      "source": [
        "Kemudian Import file dataset CSV ke Google collab\n",
        "\n"
      ]
    },
    {
      "cell_type": "code",
      "metadata": {
        "id": "nkLzaxrZOs7Q"
      },
      "source": [
        "from google.colab import files\n",
        "files.upload() \n",
        "dataset_rh = pd.read_csv('Reading Habit.csv') #Mengubah Bentuk CSV Menjadi sebuah set dataframe"
      ],
      "execution_count": null,
      "outputs": []
    },
    {
      "cell_type": "markdown",
      "metadata": {
        "id": "mduZmxegPO9n"
      },
      "source": [
        "##Menampilkan Dataset dan Melihat Isinya\n",
        "Menampilkan 5 data teratas dataset tersebut dalam  bentuk dataframe untuk mengetahui apa saja isinya"
      ]
    },
    {
      "cell_type": "code",
      "metadata": {
        "colab": {
          "base_uri": "https://localhost:8080/",
          "height": 547
        },
        "id": "q-kA_dpd16bo",
        "outputId": "a256318a-a5fb-469a-b8a3-326cf2cdb93f"
      },
      "source": [
        "dataset_rh.head(5)"
      ],
      "execution_count": null,
      "outputs": [
        {
          "output_type": "execute_result",
          "data": {
            "text/html": [
              "<div>\n",
              "<style scoped>\n",
              "    .dataframe tbody tr th:only-of-type {\n",
              "        vertical-align: middle;\n",
              "    }\n",
              "\n",
              "    .dataframe tbody tr th {\n",
              "        vertical-align: top;\n",
              "    }\n",
              "\n",
              "    .dataframe thead th {\n",
              "        text-align: right;\n",
              "    }\n",
              "</style>\n",
              "<table border=\"1\" class=\"dataframe\">\n",
              "  <thead>\n",
              "    <tr style=\"text-align: right;\">\n",
              "      <th></th>\n",
              "      <th>Age</th>\n",
              "      <th>Sex</th>\n",
              "      <th>Race</th>\n",
              "      <th>Marital status?</th>\n",
              "      <th>Education</th>\n",
              "      <th>Employement</th>\n",
              "      <th>Incomes</th>\n",
              "      <th>How many books did you read during last 12months?</th>\n",
              "      <th>Read any printed books during last 12months?</th>\n",
              "      <th>Read any audiobooks during last 12months?</th>\n",
              "      <th>Read any e-books during last 12months?</th>\n",
              "      <th>Last book you read, you…</th>\n",
              "      <th>Do you happen to read any daily news or newspapers?</th>\n",
              "      <th>Do you happen to read any magazines or journals?</th>\n",
              "    </tr>\n",
              "  </thead>\n",
              "  <tbody>\n",
              "    <tr>\n",
              "      <th>0</th>\n",
              "      <td>66</td>\n",
              "      <td>Male</td>\n",
              "      <td>Refused</td>\n",
              "      <td>Divorced</td>\n",
              "      <td>College graduate</td>\n",
              "      <td>Retired</td>\n",
              "      <td>$20,000 to under $30,000</td>\n",
              "      <td>97</td>\n",
              "      <td>Yes</td>\n",
              "      <td>No</td>\n",
              "      <td>Yes</td>\n",
              "      <td>Purchased the book</td>\n",
              "      <td>No</td>\n",
              "      <td>Yes</td>\n",
              "    </tr>\n",
              "    <tr>\n",
              "      <th>1</th>\n",
              "      <td>46</td>\n",
              "      <td>Male</td>\n",
              "      <td>Native American/American Indian</td>\n",
              "      <td>Married</td>\n",
              "      <td>High school graduate</td>\n",
              "      <td>Employed full-time</td>\n",
              "      <td>Less than $10,000</td>\n",
              "      <td>97</td>\n",
              "      <td>Yes</td>\n",
              "      <td>Yes</td>\n",
              "      <td>Yes</td>\n",
              "      <td>Purchased the book</td>\n",
              "      <td>Yes</td>\n",
              "      <td>Yes</td>\n",
              "    </tr>\n",
              "    <tr>\n",
              "      <th>2</th>\n",
              "      <td>32</td>\n",
              "      <td>Male</td>\n",
              "      <td>Mixed race</td>\n",
              "      <td>Never been married</td>\n",
              "      <td>High school graduate</td>\n",
              "      <td>Employed full-time</td>\n",
              "      <td>Less than $10,000</td>\n",
              "      <td>97</td>\n",
              "      <td>No</td>\n",
              "      <td>Yes</td>\n",
              "      <td>Yes</td>\n",
              "      <td>Borrowed the book from a friend or family member</td>\n",
              "      <td>Yes</td>\n",
              "      <td>Yes</td>\n",
              "    </tr>\n",
              "    <tr>\n",
              "      <th>3</th>\n",
              "      <td>27</td>\n",
              "      <td>Male</td>\n",
              "      <td>Mixed race</td>\n",
              "      <td>Married</td>\n",
              "      <td>High school graduate</td>\n",
              "      <td>Employed full-time</td>\n",
              "      <td>$40,000 to under $50,000</td>\n",
              "      <td>97</td>\n",
              "      <td>Yes</td>\n",
              "      <td>No</td>\n",
              "      <td>Yes</td>\n",
              "      <td>Borrowed the book from a library</td>\n",
              "      <td>Yes</td>\n",
              "      <td>No</td>\n",
              "    </tr>\n",
              "    <tr>\n",
              "      <th>4</th>\n",
              "      <td>16</td>\n",
              "      <td>Female</td>\n",
              "      <td>Mixed race</td>\n",
              "      <td>Never been married</td>\n",
              "      <td>High school incomplete</td>\n",
              "      <td>Employed part-time</td>\n",
              "      <td>$10,000 to under $20,000</td>\n",
              "      <td>97</td>\n",
              "      <td>Yes</td>\n",
              "      <td>Yes</td>\n",
              "      <td>No</td>\n",
              "      <td>Purchased the book</td>\n",
              "      <td>Yes</td>\n",
              "      <td>No</td>\n",
              "    </tr>\n",
              "  </tbody>\n",
              "</table>\n",
              "</div>"
            ],
            "text/plain": [
              "   Age  ... Do you happen to read any magazines or journals?\n",
              "0   66  ...                                              Yes\n",
              "1   46  ...                                              Yes\n",
              "2   32  ...                                              Yes\n",
              "3   27  ...                                               No\n",
              "4   16  ...                                               No\n",
              "\n",
              "[5 rows x 14 columns]"
            ]
          },
          "metadata": {
            "tags": []
          },
          "execution_count": 4
        }
      ]
    },
    {
      "cell_type": "markdown",
      "metadata": {
        "id": "UpVi4iE5ZnEK"
      },
      "source": [
        "##EDA"
      ]
    },
    {
      "cell_type": "markdown",
      "metadata": {
        "id": "IDWyp02ImCOZ"
      },
      "source": [
        "Mengetahui berapa banyak baris dan kolomnya"
      ]
    },
    {
      "cell_type": "code",
      "metadata": {
        "colab": {
          "base_uri": "https://localhost:8080/"
        },
        "id": "4GKT_Wj0vYVV",
        "outputId": "16304907-50bf-46f1-c622-fbb863991d3a"
      },
      "source": [
        "dataset_rh.shape"
      ],
      "execution_count": null,
      "outputs": [
        {
          "output_type": "execute_result",
          "data": {
            "text/plain": [
              "(2832, 14)"
            ]
          },
          "metadata": {
            "tags": []
          },
          "execution_count": 5
        }
      ]
    },
    {
      "cell_type": "markdown",
      "metadata": {
        "id": "H7GcdcGLmSdz"
      },
      "source": [
        "Mengetahui Tipe datanya"
      ]
    },
    {
      "cell_type": "code",
      "metadata": {
        "colab": {
          "base_uri": "https://localhost:8080/"
        },
        "id": "fpyIpLJSZtAz",
        "outputId": "ee51e326-357b-4613-c699-4b9bdd3d8b16"
      },
      "source": [
        "dataset_rh.dtypes"
      ],
      "execution_count": null,
      "outputs": [
        {
          "output_type": "execute_result",
          "data": {
            "text/plain": [
              "Age                                                     int64\n",
              "Sex                                                    object\n",
              "Race                                                   object\n",
              "Marital status?                                        object\n",
              "Education                                              object\n",
              "Employement                                            object\n",
              "Incomes                                                object\n",
              "How many books did you read during last 12months?       int64\n",
              "Read any printed books during last 12months?           object\n",
              "Read any audiobooks during last 12months?              object\n",
              "Read any e-books during last 12months?                 object\n",
              "Last book you read, you…                               object\n",
              "Do you happen to read any daily news or newspapers?    object\n",
              "Do you happen to read any magazines or journals?       object\n",
              "dtype: object"
            ]
          },
          "metadata": {
            "tags": []
          },
          "execution_count": 6
        }
      ]
    },
    {
      "cell_type": "code",
      "metadata": {
        "id": "mDiZU3SW8Rg8",
        "colab": {
          "base_uri": "https://localhost:8080/",
          "height": 524
        },
        "outputId": "a65d760e-7811-47da-ce8b-b7f45acd2327"
      },
      "source": [
        "dataset_rh.describe().transpose() #Menampilkan keterangan lengkap\n",
        "dataset_rh.describe() #Menampilkan keterangan lengkap\n",
        "dataset_rh.rank() #Menampilkan urutan data secara ranking"
      ],
      "execution_count": null,
      "outputs": [
        {
          "output_type": "execute_result",
          "data": {
            "text/html": [
              "<div>\n",
              "<style scoped>\n",
              "    .dataframe tbody tr th:only-of-type {\n",
              "        vertical-align: middle;\n",
              "    }\n",
              "\n",
              "    .dataframe tbody tr th {\n",
              "        vertical-align: top;\n",
              "    }\n",
              "\n",
              "    .dataframe thead th {\n",
              "        text-align: right;\n",
              "    }\n",
              "</style>\n",
              "<table border=\"1\" class=\"dataframe\">\n",
              "  <thead>\n",
              "    <tr style=\"text-align: right;\">\n",
              "      <th></th>\n",
              "      <th>Age</th>\n",
              "      <th>Sex</th>\n",
              "      <th>Race</th>\n",
              "      <th>Marital status?</th>\n",
              "      <th>Education</th>\n",
              "      <th>Employement</th>\n",
              "      <th>Incomes</th>\n",
              "      <th>How many books did you read during last 12months?</th>\n",
              "      <th>Read any printed books during last 12months?</th>\n",
              "      <th>Read any audiobooks during last 12months?</th>\n",
              "      <th>Read any e-books during last 12months?</th>\n",
              "      <th>Last book you read, you…</th>\n",
              "      <th>Do you happen to read any daily news or newspapers?</th>\n",
              "      <th>Do you happen to read any magazines or journals?</th>\n",
              "    </tr>\n",
              "  </thead>\n",
              "  <tbody>\n",
              "    <tr>\n",
              "      <th>0</th>\n",
              "      <td>2348.0</td>\n",
              "      <td>2156.0</td>\n",
              "      <td>597.0</td>\n",
              "      <td>123.0</td>\n",
              "      <td>299.0</td>\n",
              "      <td>2508.0</td>\n",
              "      <td>865.5</td>\n",
              "      <td>2770.5</td>\n",
              "      <td>1310.5</td>\n",
              "      <td>1018.0</td>\n",
              "      <td>2049.0</td>\n",
              "      <td>1809.5</td>\n",
              "      <td>544.0</td>\n",
              "      <td>2079.5</td>\n",
              "    </tr>\n",
              "    <tr>\n",
              "      <th>1</th>\n",
              "      <td>1296.0</td>\n",
              "      <td>2156.0</td>\n",
              "      <td>505.0</td>\n",
              "      <td>1169.5</td>\n",
              "      <td>949.5</td>\n",
              "      <td>689.5</td>\n",
              "      <td>2460.0</td>\n",
              "      <td>2770.5</td>\n",
              "      <td>1310.5</td>\n",
              "      <td>2237.0</td>\n",
              "      <td>2049.0</td>\n",
              "      <td>1809.5</td>\n",
              "      <td>1957.5</td>\n",
              "      <td>2079.5</td>\n",
              "    </tr>\n",
              "    <tr>\n",
              "      <th>2</th>\n",
              "      <td>717.5</td>\n",
              "      <td>2156.0</td>\n",
              "      <td>458.0</td>\n",
              "      <td>2231.5</td>\n",
              "      <td>949.5</td>\n",
              "      <td>689.5</td>\n",
              "      <td>2460.0</td>\n",
              "      <td>2770.5</td>\n",
              "      <td>94.5</td>\n",
              "      <td>2237.0</td>\n",
              "      <td>2049.0</td>\n",
              "      <td>282.0</td>\n",
              "      <td>1957.5</td>\n",
              "      <td>2079.5</td>\n",
              "    </tr>\n",
              "    <tr>\n",
              "      <th>3</th>\n",
              "      <td>513.5</td>\n",
              "      <td>2156.0</td>\n",
              "      <td>458.0</td>\n",
              "      <td>1169.5</td>\n",
              "      <td>949.5</td>\n",
              "      <td>689.5</td>\n",
              "      <td>1353.0</td>\n",
              "      <td>2770.5</td>\n",
              "      <td>1310.5</td>\n",
              "      <td>1018.0</td>\n",
              "      <td>2049.0</td>\n",
              "      <td>700.0</td>\n",
              "      <td>1957.5</td>\n",
              "      <td>665.5</td>\n",
              "    </tr>\n",
              "    <tr>\n",
              "      <th>4</th>\n",
              "      <td>34.5</td>\n",
              "      <td>740.0</td>\n",
              "      <td>458.0</td>\n",
              "      <td>2231.5</td>\n",
              "      <td>1425.0</td>\n",
              "      <td>1486.0</td>\n",
              "      <td>108.5</td>\n",
              "      <td>2770.5</td>\n",
              "      <td>1310.5</td>\n",
              "      <td>2237.0</td>\n",
              "      <td>835.0</td>\n",
              "      <td>1809.5</td>\n",
              "      <td>1957.5</td>\n",
              "      <td>665.5</td>\n",
              "    </tr>\n",
              "    <tr>\n",
              "      <th>...</th>\n",
              "      <td>...</td>\n",
              "      <td>...</td>\n",
              "      <td>...</td>\n",
              "      <td>...</td>\n",
              "      <td>...</td>\n",
              "      <td>...</td>\n",
              "      <td>...</td>\n",
              "      <td>...</td>\n",
              "      <td>...</td>\n",
              "      <td>...</td>\n",
              "      <td>...</td>\n",
              "      <td>...</td>\n",
              "      <td>...</td>\n",
              "      <td>...</td>\n",
              "    </tr>\n",
              "    <tr>\n",
              "      <th>2827</th>\n",
              "      <td>166.0</td>\n",
              "      <td>2156.0</td>\n",
              "      <td>1724.0</td>\n",
              "      <td>2231.5</td>\n",
              "      <td>949.5</td>\n",
              "      <td>1486.0</td>\n",
              "      <td>2008.5</td>\n",
              "      <td>195.5</td>\n",
              "      <td>NaN</td>\n",
              "      <td>NaN</td>\n",
              "      <td>NaN</td>\n",
              "      <td>NaN</td>\n",
              "      <td>1957.5</td>\n",
              "      <td>2079.5</td>\n",
              "    </tr>\n",
              "    <tr>\n",
              "      <th>2828</th>\n",
              "      <td>102.5</td>\n",
              "      <td>2156.0</td>\n",
              "      <td>1724.0</td>\n",
              "      <td>2231.5</td>\n",
              "      <td>1425.0</td>\n",
              "      <td>1486.0</td>\n",
              "      <td>1117.0</td>\n",
              "      <td>195.5</td>\n",
              "      <td>NaN</td>\n",
              "      <td>NaN</td>\n",
              "      <td>NaN</td>\n",
              "      <td>NaN</td>\n",
              "      <td>1957.5</td>\n",
              "      <td>665.5</td>\n",
              "    </tr>\n",
              "    <tr>\n",
              "      <th>2829</th>\n",
              "      <td>102.5</td>\n",
              "      <td>740.0</td>\n",
              "      <td>1724.0</td>\n",
              "      <td>2231.5</td>\n",
              "      <td>1425.0</td>\n",
              "      <td>1953.5</td>\n",
              "      <td>2272.5</td>\n",
              "      <td>195.5</td>\n",
              "      <td>NaN</td>\n",
              "      <td>NaN</td>\n",
              "      <td>NaN</td>\n",
              "      <td>NaN</td>\n",
              "      <td>544.0</td>\n",
              "      <td>2079.5</td>\n",
              "    </tr>\n",
              "    <tr>\n",
              "      <th>2830</th>\n",
              "      <td>34.5</td>\n",
              "      <td>2156.0</td>\n",
              "      <td>1724.0</td>\n",
              "      <td>2231.5</td>\n",
              "      <td>949.5</td>\n",
              "      <td>1953.5</td>\n",
              "      <td>2272.5</td>\n",
              "      <td>195.5</td>\n",
              "      <td>NaN</td>\n",
              "      <td>NaN</td>\n",
              "      <td>NaN</td>\n",
              "      <td>NaN</td>\n",
              "      <td>544.0</td>\n",
              "      <td>665.5</td>\n",
              "    </tr>\n",
              "    <tr>\n",
              "      <th>2831</th>\n",
              "      <td>34.5</td>\n",
              "      <td>2156.0</td>\n",
              "      <td>1724.0</td>\n",
              "      <td>2231.5</td>\n",
              "      <td>601.5</td>\n",
              "      <td>1953.5</td>\n",
              "      <td>2687.0</td>\n",
              "      <td>195.5</td>\n",
              "      <td>NaN</td>\n",
              "      <td>NaN</td>\n",
              "      <td>NaN</td>\n",
              "      <td>NaN</td>\n",
              "      <td>544.0</td>\n",
              "      <td>665.5</td>\n",
              "    </tr>\n",
              "  </tbody>\n",
              "</table>\n",
              "<p>2832 rows × 14 columns</p>\n",
              "</div>"
            ],
            "text/plain": [
              "         Age  ...  Do you happen to read any magazines or journals?\n",
              "0     2348.0  ...                                            2079.5\n",
              "1     1296.0  ...                                            2079.5\n",
              "2      717.5  ...                                            2079.5\n",
              "3      513.5  ...                                             665.5\n",
              "4       34.5  ...                                             665.5\n",
              "...      ...  ...                                               ...\n",
              "2827   166.0  ...                                            2079.5\n",
              "2828   102.5  ...                                             665.5\n",
              "2829   102.5  ...                                            2079.5\n",
              "2830    34.5  ...                                             665.5\n",
              "2831    34.5  ...                                             665.5\n",
              "\n",
              "[2832 rows x 14 columns]"
            ]
          },
          "metadata": {
            "tags": []
          },
          "execution_count": 27
        }
      ]
    },
    {
      "cell_type": "markdown",
      "metadata": {
        "id": "ZcHxUANTIv4b"
      },
      "source": [
        "##Melakukan Preprocessing Data\n",
        "disini label yang akan menjadi fokus utama sebagai fitur adalah Sex, Race, Marital Status, dan banyak buku yang dibaca selama 1 tahun terakhir"
      ]
    },
    {
      "cell_type": "markdown",
      "metadata": {
        "id": "lo6gWIquOFn9"
      },
      "source": [
        "###Data Cleaning\n",
        "Pertama-tama cari apakah ada data yang kosong alias NaN dengan menggunakan pandas"
      ]
    },
    {
      "cell_type": "code",
      "metadata": {
        "colab": {
          "base_uri": "https://localhost:8080/"
        },
        "id": "m3WIQpWoBYw6",
        "outputId": "23ff2a1d-d9c7-4fe3-f213-1f9135100f49"
      },
      "source": [
        "dataset_rh = dataset_rh.reindex()\n",
        "dataset_rh.isnull().sum()"
      ],
      "execution_count": null,
      "outputs": [
        {
          "output_type": "execute_result",
          "data": {
            "text/plain": [
              "Age                                                      0\n",
              "Sex                                                      0\n",
              "Race                                                     0\n",
              "Marital status?                                          0\n",
              "Education                                                0\n",
              "Employement                                              0\n",
              "Incomes                                                  0\n",
              "How many books did you read during last 12months?        0\n",
              "Read any printed books during last 12months?           390\n",
              "Read any audiobooks during last 12months?              390\n",
              "Read any e-books during last 12months?                 390\n",
              "Last book you read, you…                               390\n",
              "Do you happen to read any daily news or newspapers?      0\n",
              "Do you happen to read any magazines or journals?         0\n",
              "dtype: int64"
            ]
          },
          "metadata": {
            "tags": []
          },
          "execution_count": 8
        }
      ]
    },
    {
      "cell_type": "markdown",
      "metadata": {
        "id": "qtMQtVpGBpkq"
      },
      "source": [
        "Dari data diatas diketahui bahwa ada 390x4 data di 4 baris yang Kosong. maka disebut **Missing Values**"
      ]
    },
    {
      "cell_type": "markdown",
      "metadata": {
        "id": "SIpjVVKBEaJO"
      },
      "source": [
        "Oleh sebab itu dilakukan pembersihan data dengan menghapus baris yang berisi NaN"
      ]
    },
    {
      "cell_type": "code",
      "metadata": {
        "colab": {
          "base_uri": "https://localhost:8080/"
        },
        "id": "_Kv0hcKLCHEw",
        "outputId": "b9068217-2c2f-463e-9ea6-921ffce7fbef"
      },
      "source": [
        "dataset_rh2 = dataset_rh.dropna() #dropna untuk membuang nilai kosong didalamnya\n",
        "dataset_rh2.isnull().sum()"
      ],
      "execution_count": null,
      "outputs": [
        {
          "output_type": "execute_result",
          "data": {
            "text/plain": [
              "Age                                                    0\n",
              "Sex                                                    0\n",
              "Race                                                   0\n",
              "Marital status?                                        0\n",
              "Education                                              0\n",
              "Employement                                            0\n",
              "Incomes                                                0\n",
              "How many books did you read during last 12months?      0\n",
              "Read any printed books during last 12months?           0\n",
              "Read any audiobooks during last 12months?              0\n",
              "Read any e-books during last 12months?                 0\n",
              "Last book you read, you…                               0\n",
              "Do you happen to read any daily news or newspapers?    0\n",
              "Do you happen to read any magazines or journals?       0\n",
              "dtype: int64"
            ]
          },
          "metadata": {
            "tags": []
          },
          "execution_count": 9
        }
      ]
    },
    {
      "cell_type": "markdown",
      "metadata": {
        "id": "xWWpZiBRPjCz"
      },
      "source": [
        "###Data Transformation\n",
        "mengubah suatu data supaya diperoleh data yang lebih berkualitas. Yang akan dilakukan antara lain menghilangkan noise dari data (smoothing), meng-agregasi data, generalisasi data, normalisasi data, dan pembentukan atribut/fitur.\n",
        "dalam hal ini, data yang dimiliki masih berupa huruf, agar mesin dapat memahami nya perlu diubah menjadi angka, dengan cara **Label Encoding**"
      ]
    },
    {
      "cell_type": "markdown",
      "metadata": {
        "id": "3k7YYph1atOf"
      },
      "source": [
        "Label Encoding"
      ]
    },
    {
      "cell_type": "code",
      "metadata": {
        "collapsed": true,
        "id": "hm2o_FXJaws1",
        "colab": {
          "base_uri": "https://localhost:8080/",
          "height": 524
        },
        "outputId": "b4a34ca3-d13d-47b1-fc85-7f0f7e9255ce"
      },
      "source": [
        "from sklearn import preprocessing\n",
        "from sklearn.preprocessing import LabelEncoder\n",
        "dataset_rh_le = dataset_rh2.apply(LabelEncoder().fit_transform)\n",
        "dataset_rh_le"
      ],
      "execution_count": null,
      "outputs": [
        {
          "output_type": "execute_result",
          "data": {
            "text/html": [
              "<div>\n",
              "<style scoped>\n",
              "    .dataframe tbody tr th:only-of-type {\n",
              "        vertical-align: middle;\n",
              "    }\n",
              "\n",
              "    .dataframe tbody tr th {\n",
              "        vertical-align: top;\n",
              "    }\n",
              "\n",
              "    .dataframe thead th {\n",
              "        text-align: right;\n",
              "    }\n",
              "</style>\n",
              "<table border=\"1\" class=\"dataframe\">\n",
              "  <thead>\n",
              "    <tr style=\"text-align: right;\">\n",
              "      <th></th>\n",
              "      <th>Age</th>\n",
              "      <th>Sex</th>\n",
              "      <th>Race</th>\n",
              "      <th>Marital status?</th>\n",
              "      <th>Education</th>\n",
              "      <th>Employement</th>\n",
              "      <th>Incomes</th>\n",
              "      <th>How many books did you read during last 12months?</th>\n",
              "      <th>Read any printed books during last 12months?</th>\n",
              "      <th>Read any audiobooks during last 12months?</th>\n",
              "      <th>Read any e-books during last 12months?</th>\n",
              "      <th>Last book you read, you…</th>\n",
              "      <th>Do you happen to read any daily news or newspapers?</th>\n",
              "      <th>Do you happen to read any magazines or journals?</th>\n",
              "    </tr>\n",
              "  </thead>\n",
              "  <tbody>\n",
              "    <tr>\n",
              "      <th>0</th>\n",
              "      <td>50</td>\n",
              "      <td>1</td>\n",
              "      <td>6</td>\n",
              "      <td>0</td>\n",
              "      <td>0</td>\n",
              "      <td>6</td>\n",
              "      <td>2</td>\n",
              "      <td>52</td>\n",
              "      <td>2</td>\n",
              "      <td>1</td>\n",
              "      <td>2</td>\n",
              "      <td>5</td>\n",
              "      <td>1</td>\n",
              "      <td>2</td>\n",
              "    </tr>\n",
              "    <tr>\n",
              "      <th>1</th>\n",
              "      <td>30</td>\n",
              "      <td>1</td>\n",
              "      <td>4</td>\n",
              "      <td>3</td>\n",
              "      <td>2</td>\n",
              "      <td>1</td>\n",
              "      <td>8</td>\n",
              "      <td>52</td>\n",
              "      <td>2</td>\n",
              "      <td>2</td>\n",
              "      <td>2</td>\n",
              "      <td>5</td>\n",
              "      <td>2</td>\n",
              "      <td>2</td>\n",
              "    </tr>\n",
              "    <tr>\n",
              "      <th>2</th>\n",
              "      <td>16</td>\n",
              "      <td>1</td>\n",
              "      <td>3</td>\n",
              "      <td>4</td>\n",
              "      <td>2</td>\n",
              "      <td>1</td>\n",
              "      <td>8</td>\n",
              "      <td>52</td>\n",
              "      <td>1</td>\n",
              "      <td>2</td>\n",
              "      <td>2</td>\n",
              "      <td>2</td>\n",
              "      <td>2</td>\n",
              "      <td>2</td>\n",
              "    </tr>\n",
              "    <tr>\n",
              "      <th>3</th>\n",
              "      <td>11</td>\n",
              "      <td>1</td>\n",
              "      <td>3</td>\n",
              "      <td>3</td>\n",
              "      <td>2</td>\n",
              "      <td>1</td>\n",
              "      <td>4</td>\n",
              "      <td>52</td>\n",
              "      <td>2</td>\n",
              "      <td>1</td>\n",
              "      <td>2</td>\n",
              "      <td>3</td>\n",
              "      <td>2</td>\n",
              "      <td>1</td>\n",
              "    </tr>\n",
              "    <tr>\n",
              "      <th>4</th>\n",
              "      <td>0</td>\n",
              "      <td>0</td>\n",
              "      <td>3</td>\n",
              "      <td>4</td>\n",
              "      <td>3</td>\n",
              "      <td>2</td>\n",
              "      <td>0</td>\n",
              "      <td>52</td>\n",
              "      <td>2</td>\n",
              "      <td>2</td>\n",
              "      <td>1</td>\n",
              "      <td>5</td>\n",
              "      <td>2</td>\n",
              "      <td>1</td>\n",
              "    </tr>\n",
              "    <tr>\n",
              "      <th>...</th>\n",
              "      <td>...</td>\n",
              "      <td>...</td>\n",
              "      <td>...</td>\n",
              "      <td>...</td>\n",
              "      <td>...</td>\n",
              "      <td>...</td>\n",
              "      <td>...</td>\n",
              "      <td>...</td>\n",
              "      <td>...</td>\n",
              "      <td>...</td>\n",
              "      <td>...</td>\n",
              "      <td>...</td>\n",
              "      <td>...</td>\n",
              "      <td>...</td>\n",
              "    </tr>\n",
              "    <tr>\n",
              "      <th>2437</th>\n",
              "      <td>0</td>\n",
              "      <td>0</td>\n",
              "      <td>7</td>\n",
              "      <td>4</td>\n",
              "      <td>3</td>\n",
              "      <td>4</td>\n",
              "      <td>3</td>\n",
              "      <td>0</td>\n",
              "      <td>2</td>\n",
              "      <td>1</td>\n",
              "      <td>1</td>\n",
              "      <td>5</td>\n",
              "      <td>1</td>\n",
              "      <td>1</td>\n",
              "    </tr>\n",
              "    <tr>\n",
              "      <th>2438</th>\n",
              "      <td>0</td>\n",
              "      <td>0</td>\n",
              "      <td>7</td>\n",
              "      <td>4</td>\n",
              "      <td>3</td>\n",
              "      <td>4</td>\n",
              "      <td>8</td>\n",
              "      <td>0</td>\n",
              "      <td>2</td>\n",
              "      <td>1</td>\n",
              "      <td>1</td>\n",
              "      <td>3</td>\n",
              "      <td>1</td>\n",
              "      <td>1</td>\n",
              "    </tr>\n",
              "    <tr>\n",
              "      <th>2439</th>\n",
              "      <td>0</td>\n",
              "      <td>1</td>\n",
              "      <td>7</td>\n",
              "      <td>4</td>\n",
              "      <td>3</td>\n",
              "      <td>4</td>\n",
              "      <td>7</td>\n",
              "      <td>0</td>\n",
              "      <td>1</td>\n",
              "      <td>1</td>\n",
              "      <td>1</td>\n",
              "      <td>4</td>\n",
              "      <td>2</td>\n",
              "      <td>1</td>\n",
              "    </tr>\n",
              "    <tr>\n",
              "      <th>2440</th>\n",
              "      <td>0</td>\n",
              "      <td>0</td>\n",
              "      <td>7</td>\n",
              "      <td>4</td>\n",
              "      <td>3</td>\n",
              "      <td>2</td>\n",
              "      <td>7</td>\n",
              "      <td>0</td>\n",
              "      <td>2</td>\n",
              "      <td>1</td>\n",
              "      <td>1</td>\n",
              "      <td>2</td>\n",
              "      <td>1</td>\n",
              "      <td>2</td>\n",
              "    </tr>\n",
              "    <tr>\n",
              "      <th>2441</th>\n",
              "      <td>0</td>\n",
              "      <td>0</td>\n",
              "      <td>7</td>\n",
              "      <td>4</td>\n",
              "      <td>3</td>\n",
              "      <td>4</td>\n",
              "      <td>0</td>\n",
              "      <td>0</td>\n",
              "      <td>2</td>\n",
              "      <td>1</td>\n",
              "      <td>1</td>\n",
              "      <td>3</td>\n",
              "      <td>1</td>\n",
              "      <td>1</td>\n",
              "    </tr>\n",
              "  </tbody>\n",
              "</table>\n",
              "<p>2442 rows × 14 columns</p>\n",
              "</div>"
            ],
            "text/plain": [
              "      Age  ...  Do you happen to read any magazines or journals?\n",
              "0      50  ...                                                 2\n",
              "1      30  ...                                                 2\n",
              "2      16  ...                                                 2\n",
              "3      11  ...                                                 1\n",
              "4       0  ...                                                 1\n",
              "...   ...  ...                                               ...\n",
              "2437    0  ...                                                 1\n",
              "2438    0  ...                                                 1\n",
              "2439    0  ...                                                 1\n",
              "2440    0  ...                                                 2\n",
              "2441    0  ...                                                 1\n",
              "\n",
              "[2442 rows x 14 columns]"
            ]
          },
          "metadata": {
            "tags": []
          },
          "execution_count": 10
        }
      ]
    },
    {
      "cell_type": "markdown",
      "metadata": {
        "id": "n-Jq2aVBdoBE"
      },
      "source": [
        "Setelah itu dicek lagi Ringkasan Datanya"
      ]
    },
    {
      "cell_type": "code",
      "metadata": {
        "colab": {
          "base_uri": "https://localhost:8080/",
          "height": 483
        },
        "id": "iBF3vnSRdNXF",
        "outputId": "3f43602f-09af-471c-bc82-878ad790759e"
      },
      "source": [
        "dataset_rh_le.describe().transpose()"
      ],
      "execution_count": null,
      "outputs": [
        {
          "output_type": "execute_result",
          "data": {
            "text/html": [
              "<div>\n",
              "<style scoped>\n",
              "    .dataframe tbody tr th:only-of-type {\n",
              "        vertical-align: middle;\n",
              "    }\n",
              "\n",
              "    .dataframe tbody tr th {\n",
              "        vertical-align: top;\n",
              "    }\n",
              "\n",
              "    .dataframe thead th {\n",
              "        text-align: right;\n",
              "    }\n",
              "</style>\n",
              "<table border=\"1\" class=\"dataframe\">\n",
              "  <thead>\n",
              "    <tr style=\"text-align: right;\">\n",
              "      <th></th>\n",
              "      <th>count</th>\n",
              "      <th>mean</th>\n",
              "      <th>std</th>\n",
              "      <th>min</th>\n",
              "      <th>25%</th>\n",
              "      <th>50%</th>\n",
              "      <th>75%</th>\n",
              "      <th>max</th>\n",
              "    </tr>\n",
              "  </thead>\n",
              "  <tbody>\n",
              "    <tr>\n",
              "      <th>Age</th>\n",
              "      <td>2442.0</td>\n",
              "      <td>30.527846</td>\n",
              "      <td>18.487134</td>\n",
              "      <td>0.0</td>\n",
              "      <td>15.0</td>\n",
              "      <td>31.0</td>\n",
              "      <td>45.0</td>\n",
              "      <td>76.0</td>\n",
              "    </tr>\n",
              "    <tr>\n",
              "      <th>Sex</th>\n",
              "      <td>2442.0</td>\n",
              "      <td>0.455774</td>\n",
              "      <td>0.498142</td>\n",
              "      <td>0.0</td>\n",
              "      <td>0.0</td>\n",
              "      <td>0.0</td>\n",
              "      <td>1.0</td>\n",
              "      <td>1.0</td>\n",
              "    </tr>\n",
              "    <tr>\n",
              "      <th>Race</th>\n",
              "      <td>2442.0</td>\n",
              "      <td>5.937756</td>\n",
              "      <td>2.215596</td>\n",
              "      <td>0.0</td>\n",
              "      <td>7.0</td>\n",
              "      <td>7.0</td>\n",
              "      <td>7.0</td>\n",
              "      <td>7.0</td>\n",
              "    </tr>\n",
              "    <tr>\n",
              "      <th>Marital status?</th>\n",
              "      <td>2442.0</td>\n",
              "      <td>3.257576</td>\n",
              "      <td>1.480030</td>\n",
              "      <td>0.0</td>\n",
              "      <td>3.0</td>\n",
              "      <td>3.0</td>\n",
              "      <td>4.0</td>\n",
              "      <td>7.0</td>\n",
              "    </tr>\n",
              "    <tr>\n",
              "      <th>Education</th>\n",
              "      <td>2442.0</td>\n",
              "      <td>3.286241</td>\n",
              "      <td>2.344283</td>\n",
              "      <td>0.0</td>\n",
              "      <td>2.0</td>\n",
              "      <td>3.0</td>\n",
              "      <td>6.0</td>\n",
              "      <td>7.0</td>\n",
              "    </tr>\n",
              "    <tr>\n",
              "      <th>Employement</th>\n",
              "      <td>2442.0</td>\n",
              "      <td>2.746519</td>\n",
              "      <td>2.049180</td>\n",
              "      <td>0.0</td>\n",
              "      <td>1.0</td>\n",
              "      <td>2.0</td>\n",
              "      <td>4.0</td>\n",
              "      <td>7.0</td>\n",
              "    </tr>\n",
              "    <tr>\n",
              "      <th>Incomes</th>\n",
              "      <td>2442.0</td>\n",
              "      <td>4.154382</td>\n",
              "      <td>2.797025</td>\n",
              "      <td>0.0</td>\n",
              "      <td>1.0</td>\n",
              "      <td>4.0</td>\n",
              "      <td>6.0</td>\n",
              "      <td>9.0</td>\n",
              "    </tr>\n",
              "    <tr>\n",
              "      <th>How many books did you read during last 12months?</th>\n",
              "      <td>2442.0</td>\n",
              "      <td>14.147420</td>\n",
              "      <td>14.607790</td>\n",
              "      <td>0.0</td>\n",
              "      <td>3.0</td>\n",
              "      <td>9.0</td>\n",
              "      <td>22.0</td>\n",
              "      <td>52.0</td>\n",
              "    </tr>\n",
              "    <tr>\n",
              "      <th>Read any printed books during last 12months?</th>\n",
              "      <td>2442.0</td>\n",
              "      <td>1.923014</td>\n",
              "      <td>0.281570</td>\n",
              "      <td>0.0</td>\n",
              "      <td>2.0</td>\n",
              "      <td>2.0</td>\n",
              "      <td>2.0</td>\n",
              "      <td>2.0</td>\n",
              "    </tr>\n",
              "    <tr>\n",
              "      <th>Read any audiobooks during last 12months?</th>\n",
              "      <td>2442.0</td>\n",
              "      <td>1.166667</td>\n",
              "      <td>0.377125</td>\n",
              "      <td>0.0</td>\n",
              "      <td>1.0</td>\n",
              "      <td>1.0</td>\n",
              "      <td>1.0</td>\n",
              "      <td>2.0</td>\n",
              "    </tr>\n",
              "    <tr>\n",
              "      <th>Read any e-books during last 12months?</th>\n",
              "      <td>2442.0</td>\n",
              "      <td>1.316544</td>\n",
              "      <td>0.477392</td>\n",
              "      <td>0.0</td>\n",
              "      <td>1.0</td>\n",
              "      <td>1.0</td>\n",
              "      <td>2.0</td>\n",
              "      <td>2.0</td>\n",
              "    </tr>\n",
              "    <tr>\n",
              "      <th>Last book you read, you…</th>\n",
              "      <td>2442.0</td>\n",
              "      <td>3.922604</td>\n",
              "      <td>1.287187</td>\n",
              "      <td>0.0</td>\n",
              "      <td>3.0</td>\n",
              "      <td>5.0</td>\n",
              "      <td>5.0</td>\n",
              "      <td>5.0</td>\n",
              "    </tr>\n",
              "    <tr>\n",
              "      <th>Do you happen to read any daily news or newspapers?</th>\n",
              "      <td>2442.0</td>\n",
              "      <td>1.633088</td>\n",
              "      <td>0.486292</td>\n",
              "      <td>0.0</td>\n",
              "      <td>1.0</td>\n",
              "      <td>2.0</td>\n",
              "      <td>2.0</td>\n",
              "      <td>2.0</td>\n",
              "    </tr>\n",
              "    <tr>\n",
              "      <th>Do you happen to read any magazines or journals?</th>\n",
              "      <td>2442.0</td>\n",
              "      <td>1.572482</td>\n",
              "      <td>0.498120</td>\n",
              "      <td>0.0</td>\n",
              "      <td>1.0</td>\n",
              "      <td>2.0</td>\n",
              "      <td>2.0</td>\n",
              "      <td>2.0</td>\n",
              "    </tr>\n",
              "  </tbody>\n",
              "</table>\n",
              "</div>"
            ],
            "text/plain": [
              "                                                     count  ...   max\n",
              "Age                                                 2442.0  ...  76.0\n",
              "Sex                                                 2442.0  ...   1.0\n",
              "Race                                                2442.0  ...   7.0\n",
              "Marital status?                                     2442.0  ...   7.0\n",
              "Education                                           2442.0  ...   7.0\n",
              "Employement                                         2442.0  ...   7.0\n",
              "Incomes                                             2442.0  ...   9.0\n",
              "How many books did you read during last 12months?   2442.0  ...  52.0\n",
              "Read any printed books during last 12months?        2442.0  ...   2.0\n",
              "Read any audiobooks during last 12months?           2442.0  ...   2.0\n",
              "Read any e-books during last 12months?              2442.0  ...   2.0\n",
              "Last book you read, you…                            2442.0  ...   5.0\n",
              "Do you happen to read any daily news or newspap...  2442.0  ...   2.0\n",
              "Do you happen to read any magazines or journals?    2442.0  ...   2.0\n",
              "\n",
              "[14 rows x 8 columns]"
            ]
          },
          "metadata": {
            "tags": []
          },
          "execution_count": 26
        }
      ]
    },
    {
      "cell_type": "markdown",
      "metadata": {
        "id": "G8KCLCTLEzYk"
      },
      "source": [
        "###Pemilihan Target"
      ]
    },
    {
      "cell_type": "code",
      "metadata": {
        "colab": {
          "base_uri": "https://localhost:8080/"
        },
        "id": "4QYt461kE4PX",
        "outputId": "88dec95c-7e3c-46c1-e630-1ffd72e1bb3f"
      },
      "source": [
        "y = dataset_rh_le['Age']\n",
        "y"
      ],
      "execution_count": null,
      "outputs": [
        {
          "output_type": "execute_result",
          "data": {
            "text/plain": [
              "0       50\n",
              "1       30\n",
              "2       16\n",
              "3       11\n",
              "4        0\n",
              "        ..\n",
              "2437     0\n",
              "2438     0\n",
              "2439     0\n",
              "2440     0\n",
              "2441     0\n",
              "Name: Age, Length: 2442, dtype: int64"
            ]
          },
          "metadata": {
            "tags": []
          },
          "execution_count": 11
        }
      ]
    },
    {
      "cell_type": "markdown",
      "metadata": {
        "id": "vhE5za19TNM7"
      },
      "source": [
        "###Pemilihan Fitur"
      ]
    },
    {
      "cell_type": "code",
      "metadata": {
        "colab": {
          "base_uri": "https://localhost:8080/",
          "height": 419
        },
        "id": "QQDsGWgkTPeB",
        "outputId": "58712670-4fd1-47ca-ae8b-1983177b6362"
      },
      "source": [
        "features = dataset_rh_le[['Sex','Race','Marital status?','Education','How many books did you read during last 12months?']]\n",
        "x = features\n",
        "x"
      ],
      "execution_count": null,
      "outputs": [
        {
          "output_type": "execute_result",
          "data": {
            "text/html": [
              "<div>\n",
              "<style scoped>\n",
              "    .dataframe tbody tr th:only-of-type {\n",
              "        vertical-align: middle;\n",
              "    }\n",
              "\n",
              "    .dataframe tbody tr th {\n",
              "        vertical-align: top;\n",
              "    }\n",
              "\n",
              "    .dataframe thead th {\n",
              "        text-align: right;\n",
              "    }\n",
              "</style>\n",
              "<table border=\"1\" class=\"dataframe\">\n",
              "  <thead>\n",
              "    <tr style=\"text-align: right;\">\n",
              "      <th></th>\n",
              "      <th>Sex</th>\n",
              "      <th>Race</th>\n",
              "      <th>Marital status?</th>\n",
              "      <th>Education</th>\n",
              "      <th>How many books did you read during last 12months?</th>\n",
              "    </tr>\n",
              "  </thead>\n",
              "  <tbody>\n",
              "    <tr>\n",
              "      <th>0</th>\n",
              "      <td>1</td>\n",
              "      <td>6</td>\n",
              "      <td>0</td>\n",
              "      <td>0</td>\n",
              "      <td>52</td>\n",
              "    </tr>\n",
              "    <tr>\n",
              "      <th>1</th>\n",
              "      <td>1</td>\n",
              "      <td>4</td>\n",
              "      <td>3</td>\n",
              "      <td>2</td>\n",
              "      <td>52</td>\n",
              "    </tr>\n",
              "    <tr>\n",
              "      <th>2</th>\n",
              "      <td>1</td>\n",
              "      <td>3</td>\n",
              "      <td>4</td>\n",
              "      <td>2</td>\n",
              "      <td>52</td>\n",
              "    </tr>\n",
              "    <tr>\n",
              "      <th>3</th>\n",
              "      <td>1</td>\n",
              "      <td>3</td>\n",
              "      <td>3</td>\n",
              "      <td>2</td>\n",
              "      <td>52</td>\n",
              "    </tr>\n",
              "    <tr>\n",
              "      <th>4</th>\n",
              "      <td>0</td>\n",
              "      <td>3</td>\n",
              "      <td>4</td>\n",
              "      <td>3</td>\n",
              "      <td>52</td>\n",
              "    </tr>\n",
              "    <tr>\n",
              "      <th>...</th>\n",
              "      <td>...</td>\n",
              "      <td>...</td>\n",
              "      <td>...</td>\n",
              "      <td>...</td>\n",
              "      <td>...</td>\n",
              "    </tr>\n",
              "    <tr>\n",
              "      <th>2437</th>\n",
              "      <td>0</td>\n",
              "      <td>7</td>\n",
              "      <td>4</td>\n",
              "      <td>3</td>\n",
              "      <td>0</td>\n",
              "    </tr>\n",
              "    <tr>\n",
              "      <th>2438</th>\n",
              "      <td>0</td>\n",
              "      <td>7</td>\n",
              "      <td>4</td>\n",
              "      <td>3</td>\n",
              "      <td>0</td>\n",
              "    </tr>\n",
              "    <tr>\n",
              "      <th>2439</th>\n",
              "      <td>1</td>\n",
              "      <td>7</td>\n",
              "      <td>4</td>\n",
              "      <td>3</td>\n",
              "      <td>0</td>\n",
              "    </tr>\n",
              "    <tr>\n",
              "      <th>2440</th>\n",
              "      <td>0</td>\n",
              "      <td>7</td>\n",
              "      <td>4</td>\n",
              "      <td>3</td>\n",
              "      <td>0</td>\n",
              "    </tr>\n",
              "    <tr>\n",
              "      <th>2441</th>\n",
              "      <td>0</td>\n",
              "      <td>7</td>\n",
              "      <td>4</td>\n",
              "      <td>3</td>\n",
              "      <td>0</td>\n",
              "    </tr>\n",
              "  </tbody>\n",
              "</table>\n",
              "<p>2442 rows × 5 columns</p>\n",
              "</div>"
            ],
            "text/plain": [
              "      Sex  Race  ...  Education  How many books did you read during last 12months?\n",
              "0       1     6  ...          0                                                 52\n",
              "1       1     4  ...          2                                                 52\n",
              "2       1     3  ...          2                                                 52\n",
              "3       1     3  ...          2                                                 52\n",
              "4       0     3  ...          3                                                 52\n",
              "...   ...   ...  ...        ...                                                ...\n",
              "2437    0     7  ...          3                                                  0\n",
              "2438    0     7  ...          3                                                  0\n",
              "2439    1     7  ...          3                                                  0\n",
              "2440    0     7  ...          3                                                  0\n",
              "2441    0     7  ...          3                                                  0\n",
              "\n",
              "[2442 rows x 5 columns]"
            ]
          },
          "metadata": {
            "tags": []
          },
          "execution_count": 12
        }
      ]
    },
    {
      "cell_type": "markdown",
      "metadata": {
        "id": "NmERGgqCJ2QI"
      },
      "source": [
        "##Metode Machine Learning (Decision Tree & Random Forest)"
      ]
    },
    {
      "cell_type": "markdown",
      "metadata": {
        "id": "XpVUZDbHKTss"
      },
      "source": [
        "###Decision Tree Regresor"
      ]
    },
    {
      "cell_type": "code",
      "metadata": {
        "id": "ZBeRxAvhKYY2"
      },
      "source": [
        "from sklearn.tree import DecisionTreeRegressor"
      ],
      "execution_count": null,
      "outputs": []
    },
    {
      "cell_type": "markdown",
      "metadata": {
        "id": "x_aM7zAVK3Yi"
      },
      "source": [
        "Membuat Model"
      ]
    },
    {
      "cell_type": "code",
      "metadata": {
        "id": "KkC0wpAiK440"
      },
      "source": [
        "age_model = DecisionTreeRegressor(random_state=1)"
      ],
      "execution_count": null,
      "outputs": []
    },
    {
      "cell_type": "markdown",
      "metadata": {
        "id": "N6ZT7m7ILIas"
      },
      "source": [
        "Training Model"
      ]
    },
    {
      "cell_type": "code",
      "metadata": {
        "colab": {
          "base_uri": "https://localhost:8080/"
        },
        "id": "kHuCJkQ9LIHM",
        "outputId": "399d8f93-4283-44c2-eb6d-b59448daa724"
      },
      "source": [
        "age_model.fit(x,y)"
      ],
      "execution_count": null,
      "outputs": [
        {
          "output_type": "execute_result",
          "data": {
            "text/plain": [
              "DecisionTreeRegressor(ccp_alpha=0.0, criterion='mse', max_depth=None,\n",
              "                      max_features=None, max_leaf_nodes=None,\n",
              "                      min_impurity_decrease=0.0, min_impurity_split=None,\n",
              "                      min_samples_leaf=1, min_samples_split=2,\n",
              "                      min_weight_fraction_leaf=0.0, presort='deprecated',\n",
              "                      random_state=1, splitter='best')"
            ]
          },
          "metadata": {
            "tags": []
          },
          "execution_count": 224
        }
      ]
    },
    {
      "cell_type": "markdown",
      "metadata": {
        "id": "W9PoYkmyLTnE"
      },
      "source": [
        "Melakukan Prediksi"
      ]
    },
    {
      "cell_type": "code",
      "metadata": {
        "colab": {
          "base_uri": "https://localhost:8080/"
        },
        "id": "siXMUNpTLWFN",
        "outputId": "c086771a-408d-45d7-9adb-ceb01c43d0bb"
      },
      "source": [
        "age_model.predict(x.head())"
      ],
      "execution_count": null,
      "outputs": [
        {
          "output_type": "execute_result",
          "data": {
            "text/plain": [
              "array([50., 30., 16., 11.,  0.])"
            ]
          },
          "metadata": {
            "tags": []
          },
          "execution_count": 225
        }
      ]
    },
    {
      "cell_type": "markdown",
      "metadata": {
        "id": "EDVtxKxwLz8V"
      },
      "source": [
        "Evaluasi Prediksi"
      ]
    },
    {
      "cell_type": "code",
      "metadata": {
        "colab": {
          "base_uri": "https://localhost:8080/"
        },
        "id": "ta8PCqPrL2Ci",
        "outputId": "fa5ba8bc-b24d-48b0-92f5-b5c35d4d6e1b"
      },
      "source": [
        "y.head()"
      ],
      "execution_count": null,
      "outputs": [
        {
          "output_type": "execute_result",
          "data": {
            "text/plain": [
              "0    50\n",
              "1    30\n",
              "2    16\n",
              "3    11\n",
              "4     0\n",
              "Name: Age, dtype: int64"
            ]
          },
          "metadata": {
            "tags": []
          },
          "execution_count": 226
        }
      ]
    },
    {
      "cell_type": "markdown",
      "metadata": {
        "id": "W362zG6dZwlh"
      },
      "source": [
        "Setelah dicoba diprediksi menggunakan data yang sama, hasilnya tetap dan akurat."
      ]
    },
    {
      "cell_type": "markdown",
      "metadata": {
        "id": "xQYQgw4ITlaJ"
      },
      "source": [
        "###Random Forest"
      ]
    },
    {
      "cell_type": "markdown",
      "metadata": {
        "id": "idM7DoKOZ7qI"
      },
      "source": [
        "Import library "
      ]
    },
    {
      "cell_type": "code",
      "metadata": {
        "id": "PFZZDPi2TqjV"
      },
      "source": [
        "from sklearn.ensemble import RandomForestClassifier\n",
        "from sklearn.model_selection import train_test_split\n",
        "from sklearn.metrics import r2_score"
      ],
      "execution_count": null,
      "outputs": []
    },
    {
      "cell_type": "markdown",
      "metadata": {
        "id": "p7Rr6qC2Z-D0"
      },
      "source": [
        "Memisahkan/split x dan y menjadi beberapa untuk melakukan random forest"
      ]
    },
    {
      "cell_type": "code",
      "metadata": {
        "id": "SG3wlefnUT2N"
      },
      "source": [
        "X_train, X_test, Y_train, Y_test = train_test_split(x,y, test_size = 0.2 )"
      ],
      "execution_count": null,
      "outputs": []
    },
    {
      "cell_type": "code",
      "metadata": {
        "colab": {
          "base_uri": "https://localhost:8080/"
        },
        "id": "VCDiV48nT_XI",
        "outputId": "f0868fd9-ccfd-428c-f1e9-573d0be1b986"
      },
      "source": [
        "clasifier = RandomForestClassifier()\n",
        "clasifier.fit(X_train,Y_train)"
      ],
      "execution_count": null,
      "outputs": [
        {
          "output_type": "execute_result",
          "data": {
            "text/plain": [
              "RandomForestClassifier(bootstrap=True, ccp_alpha=0.0, class_weight=None,\n",
              "                       criterion='gini', max_depth=None, max_features='auto',\n",
              "                       max_leaf_nodes=None, max_samples=None,\n",
              "                       min_impurity_decrease=0.0, min_impurity_split=None,\n",
              "                       min_samples_leaf=1, min_samples_split=2,\n",
              "                       min_weight_fraction_leaf=0.0, n_estimators=100,\n",
              "                       n_jobs=None, oob_score=False, random_state=None,\n",
              "                       verbose=0, warm_start=False)"
            ]
          },
          "metadata": {
            "tags": []
          },
          "execution_count": 205
        }
      ]
    },
    {
      "cell_type": "code",
      "metadata": {
        "colab": {
          "base_uri": "https://localhost:8080/"
        },
        "id": "ybB12SsTVwdu",
        "outputId": "6f416943-b916-4f00-e53a-902f6df11437"
      },
      "source": [
        "Y_pred = clasifier.predict(X_test)\n",
        "Y_pred"
      ],
      "execution_count": null,
      "outputs": [
        {
          "output_type": "execute_result",
          "data": {
            "text/plain": [
              "array([ 0, 31,  6, 16, 11, 20, 32,  6, 33, 54, 34,  8, 24, 39, 46, 23, 49,\n",
              "       37, 40,  5,  5, 49, 33, 54, 20,  3, 22, 23, 63,  6,  3,  5, 14, 63,\n",
              "       72, 51, 56, 44, 44, 11, 37, 34, 48, 29, 66, 33, 32, 46, 18, 11, 11,\n",
              "       36, 61, 55,  4,  5, 24, 23,  0, 22, 10, 41, 40, 56, 69, 42, 67, 38,\n",
              "       33, 34, 38,  6, 16, 39, 38, 44, 24, 20, 32, 14, 63, 22, 40, 31,  4,\n",
              "       40, 32, 22,  0,  6,  2,  0, 35, 24,  6, 57, 15,  0,  0, 27, 33, 15,\n",
              "       39,  9, 36,  4, 24,  0,  9, 39, 34, 49, 16, 39, 56, 39, 10, 21, 50,\n",
              "       14, 16,  2, 67, 40, 56, 25, 41, 10,  9, 25, 43, 45, 40, 52, 56, 39,\n",
              "       51, 56, 47, 23, 39, 40, 41, 35, 39, 58, 19,  0, 72,  2, 43, 45, 23,\n",
              "       15, 56, 63, 37, 37, 56, 61, 23, 24, 27, 44, 21, 13, 69, 32, 44, 32,\n",
              "       44, 24,  1, 20, 21, 22, 56, 17,  7,  5, 19, 36, 32, 54, 41, 16, 35,\n",
              "       42, 38, 48, 36,  2, 19, 15, 70, 36, 43, 20, 13, 27, 16, 40, 45, 39,\n",
              "       33, 63, 55,  0, 12, 37, 38, 50, 19, 14,  7,  5, 39, 33, 28, 34, 23,\n",
              "       39, 37, 35, 24, 22, 40, 14, 32, 64, 53, 68, 33, 35, 16, 13, 62, 17,\n",
              "       18, 39, 49, 45, 15, 32, 50, 22, 14, 41, 22, 40, 49,  0, 41, 36, 31,\n",
              "       27, 61, 39, 35, 44, 17, 16, 62, 49, 17, 49,  3, 40, 52,  4, 28, 17,\n",
              "       43, 13, 40, 21,  0, 16, 41, 48, 23,  0, 31, 29, 24, 50, 14, 16, 17,\n",
              "       24, 35, 26, 20, 55, 23,  4, 19, 21, 33, 21, 31, 48,  1, 49,  0, 24,\n",
              "       53, 43, 33,  3, 67, 56,  0, 44, 26, 20,  6, 31, 21, 39,  5, 47, 57,\n",
              "       40, 33, 10, 23, 64,  1, 76, 67, 40, 39, 15,  5, 11, 23, 57, 24, 39,\n",
              "        4,  6, 58, 28, 16, 56, 53,  8, 39, 50, 42, 19, 37,  5, 56, 28, 17,\n",
              "       63, 23, 24, 56, 62, 40, 51, 26, 51, 24, 24, 44, 47, 34, 14, 37, 17,\n",
              "        0, 15, 50, 63, 45, 22, 43, 32,  1, 28, 28,  5, 37, 34, 20, 61,  0,\n",
              "       55, 20, 61, 72,  9, 54, 41, 15,  5, 34, 23, 52, 11, 24, 48,  3, 37,\n",
              "       23, 48, 58, 74, 17, 52, 39, 44, 61, 50,  6, 31, 19,  3, 33, 35,  5,\n",
              "       33, 40, 24, 38, 49, 33,  6, 19, 23, 41, 38, 32, 60, 20, 24,  2, 31,\n",
              "       43, 31, 40, 58, 14,  3, 27, 24, 37, 34, 24, 18, 22, 63, 37, 37, 36,\n",
              "       60, 60, 37, 10, 34,  0, 54, 19, 16, 57, 25, 21,  1, 26, 50, 32, 38,\n",
              "       26, 44, 16, 32, 39, 39, 36,  2, 18, 22, 53, 19, 51])"
            ]
          },
          "metadata": {
            "tags": []
          },
          "execution_count": 206
        }
      ]
    },
    {
      "cell_type": "code",
      "metadata": {
        "colab": {
          "base_uri": "https://localhost:8080/"
        },
        "id": "2vqct8WNXYlA",
        "outputId": "8fbf8520-1e94-45fb-9167-acbbd5782800"
      },
      "source": [
        "r2_score(Y_test,Y_pred)"
      ],
      "execution_count": null,
      "outputs": [
        {
          "output_type": "execute_result",
          "data": {
            "text/plain": [
              "-0.13726185274517855"
            ]
          },
          "metadata": {
            "tags": []
          },
          "execution_count": 207
        }
      ]
    },
    {
      "cell_type": "markdown",
      "metadata": {
        "id": "QHkhLgFjFgkR"
      },
      "source": [
        "##Visualiasasi"
      ]
    },
    {
      "cell_type": "markdown",
      "metadata": {
        "id": "UyixcpZxOBCJ"
      },
      "source": [
        "Mencari berapa banyak masing-masing gender"
      ]
    },
    {
      "cell_type": "code",
      "metadata": {
        "colab": {
          "base_uri": "https://localhost:8080/",
          "height": 349
        },
        "id": "DqTxzlAwdt6c",
        "outputId": "7b70a54f-9616-4750-c089-5d8cb3dc7dfa"
      },
      "source": [
        "sns.countplot(dataset_rh2['Sex']).set_title('Gender')\n",
        "x = dataset_rh_le['How many books did you read during last 12months?']\n",
        "y = dataset_rh_le['Race']"
      ],
      "execution_count": null,
      "outputs": [
        {
          "output_type": "stream",
          "text": [
            "/usr/local/lib/python3.7/dist-packages/seaborn/_decorators.py:43: FutureWarning: Pass the following variable as a keyword arg: x. From version 0.12, the only valid positional argument will be `data`, and passing other arguments without an explicit keyword will result in an error or misinterpretation.\n",
            "  FutureWarning\n"
          ],
          "name": "stderr"
        },
        {
          "output_type": "display_data",
          "data": {
            "image/png": "[encoded data removed]",
            "text/plain": [
              "<Figure size 432x288 with 1 Axes>"
            ]
          },
          "metadata": {
            "tags": [],
            "needs_background": "light"
          }
        }
      ]
    },
    {
      "cell_type": "markdown",
      "metadata": {
        "id": "gjmw5C7VOPJw"
      },
      "source": [
        "menampilkan masing-masing ras berdasarkan gender\n",
        "\n"
      ]
    },
    {
      "cell_type": "code",
      "metadata": {
        "colab": {
          "base_uri": "https://localhost:8080/",
          "height": 367
        },
        "id": "ipepklmfQKIq",
        "outputId": "5e52e8db-620b-4dc1-db77-7a79c9f4f258"
      },
      "source": [
        "sns.distplot(x['Race'])\n",
        "sns.distplot(x['Sex']);"
      ],
      "execution_count": null,
      "outputs": [
        {
          "output_type": "stream",
          "text": [
            "/usr/local/lib/python3.7/dist-packages/seaborn/distributions.py:2557: FutureWarning: `distplot` is a deprecated function and will be removed in a future version. Please adapt your code to use either `displot` (a figure-level function with similar flexibility) or `histplot` (an axes-level function for histograms).\n",
            "  warnings.warn(msg, FutureWarning)\n",
            "/usr/local/lib/python3.7/dist-packages/seaborn/distributions.py:2557: FutureWarning: `distplot` is a deprecated function and will be removed in a future version. Please adapt your code to use either `displot` (a figure-level function with similar flexibility) or `histplot` (an axes-level function for histograms).\n",
            "  warnings.warn(msg, FutureWarning)\n"
          ],
          "name": "stderr"
        },
        {
          "output_type": "display_data",
          "data": {
            "image/png": "[encoded data removed]",
            "text/plain": [
              "<Figure size 432x288 with 1 Axes>"
            ]
          },
          "metadata": {
            "tags": [],
            "needs_background": "light"
          }
        }
      ]
    },
    {
      "cell_type": "markdown",
      "metadata": {
        "id": "0et9z8tkPNzW"
      },
      "source": [
        "Menampilkan Plot dari feature dan target"
      ]
    },
    {
      "cell_type": "code",
      "metadata": {
        "id": "qdLodtV6OO1N",
        "colab": {
          "base_uri": "https://localhost:8080/",
          "height": 282
        },
        "outputId": "1482f08c-dd82-4ef3-c193-7546c4bc2bbd"
      },
      "source": [
        "plt.plot(x,y)\n",
        "plt.legend"
      ],
      "execution_count": null,
      "outputs": [
        {
          "output_type": "execute_result",
          "data": {
            "text/plain": [
              "<function matplotlib.pyplot.legend>"
            ]
          },
          "metadata": {
            "tags": []
          },
          "execution_count": 14
        },
        {
          "output_type": "display_data",
          "data": {
            "image/png": "[encoded data removed]",
            "text/plain": [
              "<Figure size 432x288 with 1 Axes>"
            ]
          },
          "metadata": {
            "tags": [],
            "needs_background": "light"
          }
        }
      ]
    },
    {
      "cell_type": "markdown",
      "metadata": {
        "id": "-oXiPlR4R8cj"
      },
      "source": [
        "Menampilkan data multidimensional untuk mengetahui relasi antar gender"
      ]
    },
    {
      "cell_type": "code",
      "metadata": {
        "id": "Wsy2EOpsR-h2",
        "colab": {
          "base_uri": "https://localhost:8080/",
          "height": 656
        },
        "outputId": "92818aeb-46c5-4690-d201-061cb9277146"
      },
      "source": [
        "sns.pairplot(dataset_rh,hue='Sex',size=4.0)"
      ],
      "execution_count": null,
      "outputs": [
        {
          "output_type": "stream",
          "text": [
            "/usr/local/lib/python3.7/dist-packages/seaborn/axisgrid.py:1969: UserWarning: The `size` parameter has been renamed to `height`; please update your code.\n",
            "  warnings.warn(msg, UserWarning)\n"
          ],
          "name": "stderr"
        },
        {
          "output_type": "execute_result",
          "data": {
            "text/plain": [
              "<seaborn.axisgrid.PairGrid at 0x7fad2c760450>"
            ]
          },
          "metadata": {
            "tags": []
          },
          "execution_count": 22
        },
        {
          "output_type": "display_data",
          "data": {
            "image/png": "[encoded data removed]",
            "text/plain": [
              "<Figure size 648.125x576 with 6 Axes>"
            ]
          },
          "metadata": {
            "tags": [],
            "needs_background": "light"
          }
        }
      ]
    },
    {
      "cell_type": "code",
      "metadata": {
        "id": "PF3VdE1-jqZL"
      },
      "source": [
        ""
      ],
      "execution_count": null,
      "outputs": []
    }
  ]
}